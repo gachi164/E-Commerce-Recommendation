{
 "cells": [
  {
   "cell_type": "code",
   "execution_count": 1,
   "metadata": {},
   "outputs": [],
   "source": [
    "import pandas as pd\n",
    "import numpy as np\n",
    "from collections import defaultdict\n",
    "import random\n",
    "import scipy.optimize"
   ]
  },
  {
   "cell_type": "markdown",
   "metadata": {},
   "source": [
    "1. Create a Data class to load and manipulate the data.\n",
    "2. Create functions to do a data analysis, calculate similarity using Jaccard similarity.\n",
    "3. Make a recommendation for a selected item."
   ]
  },
  {
   "cell_type": "code",
   "execution_count": 2,
   "metadata": {},
   "outputs": [],
   "source": [
    "class Data:\n",
    "    def __init__(self):\n",
    "        '''init Data class'''\n",
    "        self.data = None\n",
    "                \n",
    "    def load_data(self, filename, format='txt'):\n",
    "        '''loads data from excel, csv, tsv, or txt file'''\n",
    "        if format == 'excel':\n",
    "            self.data = pd.read_excel(filename)\n",
    "        elif format == 'csv':\n",
    "            self.data = pd.read_csv(filename)\n",
    "        elif format == 'tsv':\n",
    "            self.data = pd.read_csv(filename, sep='\\t')\n",
    "        elif format == 'txt':\n",
    "            self.data = pd.read_table(filename)\n",
    "        else:\n",
    "            raise ValueError('Invalid file format.  Please specify \"excel\", \"csv\", \"tsv\", or \"txt\".')\n",
    "          \n",
    "    def present_data_head(self, number_rows=2):\n",
    "        '''present information from the data'''\n",
    "        display(self.data.head(number_rows))\n",
    "        self.data.info()\n",
    "    \n",
    "    def drop_small_order(self, order_col = 'order_number', min_order_size = 2):\n",
    "        '''delete small orders that have less number of items or smaller than a threshold'''\n",
    "        self.data = self.data[self.data.groupby('order_number').order_number.transform(len) >= min_order_size]\n",
    "        \n",
    "    def drop_columns(self,columns = []):\n",
    "        '''drop column from self.data'''\n",
    "        self.data.drop(columns, axis = 1, inplace = True)"
   ]
  },
  {
   "cell_type": "code",
   "execution_count": 3,
   "metadata": {
    "scrolled": true
   },
   "outputs": [
    {
     "name": "stdout",
     "output_type": "stream",
     "text": [
      "\n",
      " Orgiginal data\n"
     ]
    },
    {
     "data": {
      "text/html": [
       "<div>\n",
       "<style scoped>\n",
       "    .dataframe tbody tr th:only-of-type {\n",
       "        vertical-align: middle;\n",
       "    }\n",
       "\n",
       "    .dataframe tbody tr th {\n",
       "        vertical-align: top;\n",
       "    }\n",
       "\n",
       "    .dataframe thead th {\n",
       "        text-align: right;\n",
       "    }\n",
       "</style>\n",
       "<table border=\"1\" class=\"dataframe\">\n",
       "  <thead>\n",
       "    <tr style=\"text-align: right;\">\n",
       "      <th></th>\n",
       "      <th>order_number</th>\n",
       "      <th>l1</th>\n",
       "      <th>l2</th>\n",
       "      <th>l3</th>\n",
       "      <th>sku</th>\n",
       "      <th>brand</th>\n",
       "    </tr>\n",
       "  </thead>\n",
       "  <tbody>\n",
       "    <tr>\n",
       "      <th>0</th>\n",
       "      <td>168266</td>\n",
       "      <td>Power Tools</td>\n",
       "      <td>Power Saws and Accessories</td>\n",
       "      <td>Reciprocating Saw Blades</td>\n",
       "      <td>265105</td>\n",
       "      <td>2768</td>\n",
       "    </tr>\n",
       "    <tr>\n",
       "      <th>1</th>\n",
       "      <td>123986</td>\n",
       "      <td>Safety</td>\n",
       "      <td>Spill Control Supplies</td>\n",
       "      <td>Temporary Leak Repair</td>\n",
       "      <td>215839</td>\n",
       "      <td>586</td>\n",
       "    </tr>\n",
       "    <tr>\n",
       "      <th>2</th>\n",
       "      <td>158978</td>\n",
       "      <td>Hardware</td>\n",
       "      <td>Door Hardware</td>\n",
       "      <td>Thresholds</td>\n",
       "      <td>284756</td>\n",
       "      <td>1793</td>\n",
       "    </tr>\n",
       "    <tr>\n",
       "      <th>3</th>\n",
       "      <td>449035</td>\n",
       "      <td>Electronics, Appliances, and Batteries</td>\n",
       "      <td>Batteries</td>\n",
       "      <td>Standard Batteries</td>\n",
       "      <td>12579</td>\n",
       "      <td>1231</td>\n",
       "    </tr>\n",
       "    <tr>\n",
       "      <th>4</th>\n",
       "      <td>781232</td>\n",
       "      <td>Motors</td>\n",
       "      <td>General Purpose AC Motors</td>\n",
       "      <td>General Purpose AC Motors</td>\n",
       "      <td>194681</td>\n",
       "      <td>2603</td>\n",
       "    </tr>\n",
       "    <tr>\n",
       "      <th>5</th>\n",
       "      <td>116599</td>\n",
       "      <td>Pneumatics</td>\n",
       "      <td>Pneumatic Tube Fittings</td>\n",
       "      <td>Pneumatic Push to Connect Tube Fittings</td>\n",
       "      <td>167757</td>\n",
       "      <td>3889</td>\n",
       "    </tr>\n",
       "    <tr>\n",
       "      <th>6</th>\n",
       "      <td>701116</td>\n",
       "      <td>Motors</td>\n",
       "      <td>General Purpose AC Motors</td>\n",
       "      <td>General Purpose AC Motors</td>\n",
       "      <td>310296</td>\n",
       "      <td>1068</td>\n",
       "    </tr>\n",
       "    <tr>\n",
       "      <th>7</th>\n",
       "      <td>555497</td>\n",
       "      <td>Motors</td>\n",
       "      <td>Motor Supplies</td>\n",
       "      <td>Capacitors</td>\n",
       "      <td>306732</td>\n",
       "      <td>1068</td>\n",
       "    </tr>\n",
       "    <tr>\n",
       "      <th>8</th>\n",
       "      <td>282317</td>\n",
       "      <td>Safety</td>\n",
       "      <td>Footwear and Footwear Accessories</td>\n",
       "      <td>Insoles</td>\n",
       "      <td>148549</td>\n",
       "      <td>2696</td>\n",
       "    </tr>\n",
       "    <tr>\n",
       "      <th>9</th>\n",
       "      <td>644437</td>\n",
       "      <td>Hand Tools</td>\n",
       "      <td>Sockets and Bits</td>\n",
       "      <td>Crowfoot Socket Wrenches</td>\n",
       "      <td>283869</td>\n",
       "      <td>3356</td>\n",
       "    </tr>\n",
       "  </tbody>\n",
       "</table>\n",
       "</div>"
      ],
      "text/plain": [
       "   order_number                                      l1  \\\n",
       "0        168266                             Power Tools   \n",
       "1        123986                                  Safety   \n",
       "2        158978                                Hardware   \n",
       "3        449035  Electronics, Appliances, and Batteries   \n",
       "4        781232                                  Motors   \n",
       "5        116599                              Pneumatics   \n",
       "6        701116                                  Motors   \n",
       "7        555497                                  Motors   \n",
       "8        282317                                  Safety   \n",
       "9        644437                              Hand Tools   \n",
       "\n",
       "                                  l2                                       l3  \\\n",
       "0         Power Saws and Accessories                 Reciprocating Saw Blades   \n",
       "1             Spill Control Supplies                    Temporary Leak Repair   \n",
       "2                      Door Hardware                               Thresholds   \n",
       "3                          Batteries                       Standard Batteries   \n",
       "4          General Purpose AC Motors                General Purpose AC Motors   \n",
       "5            Pneumatic Tube Fittings  Pneumatic Push to Connect Tube Fittings   \n",
       "6          General Purpose AC Motors                General Purpose AC Motors   \n",
       "7                     Motor Supplies                               Capacitors   \n",
       "8  Footwear and Footwear Accessories                                  Insoles   \n",
       "9                   Sockets and Bits                 Crowfoot Socket Wrenches   \n",
       "\n",
       "      sku  brand  \n",
       "0  265105   2768  \n",
       "1  215839    586  \n",
       "2  284756   1793  \n",
       "3   12579   1231  \n",
       "4  194681   2603  \n",
       "5  167757   3889  \n",
       "6  310296   1068  \n",
       "7  306732   1068  \n",
       "8  148549   2696  \n",
       "9  283869   3356  "
      ]
     },
     "metadata": {},
     "output_type": "display_data"
    },
    {
     "name": "stdout",
     "output_type": "stream",
     "text": [
      "<class 'pandas.core.frame.DataFrame'>\n",
      "RangeIndex: 2107537 entries, 0 to 2107536\n",
      "Data columns (total 6 columns):\n",
      " #   Column        Dtype \n",
      "---  ------        ----- \n",
      " 0   order_number  int64 \n",
      " 1   l1            object\n",
      " 2   l2            object\n",
      " 3   l3            object\n",
      " 4   sku           int64 \n",
      " 5   brand         int64 \n",
      "dtypes: int64(3), object(3)\n",
      "memory usage: 96.5+ MB\n",
      "\n",
      " Data after eleminating small orders \n",
      "\n"
     ]
    },
    {
     "data": {
      "text/html": [
       "<div>\n",
       "<style scoped>\n",
       "    .dataframe tbody tr th:only-of-type {\n",
       "        vertical-align: middle;\n",
       "    }\n",
       "\n",
       "    .dataframe tbody tr th {\n",
       "        vertical-align: top;\n",
       "    }\n",
       "\n",
       "    .dataframe thead th {\n",
       "        text-align: right;\n",
       "    }\n",
       "</style>\n",
       "<table border=\"1\" class=\"dataframe\">\n",
       "  <thead>\n",
       "    <tr style=\"text-align: right;\">\n",
       "      <th></th>\n",
       "      <th>order_number</th>\n",
       "      <th>l1</th>\n",
       "      <th>l2</th>\n",
       "      <th>l3</th>\n",
       "      <th>sku</th>\n",
       "      <th>brand</th>\n",
       "    </tr>\n",
       "  </thead>\n",
       "  <tbody>\n",
       "    <tr>\n",
       "      <th>22</th>\n",
       "      <td>173984</td>\n",
       "      <td>Cleaning</td>\n",
       "      <td>Paper Products and Dispensers</td>\n",
       "      <td>Paper Towels, Rolls</td>\n",
       "      <td>46841</td>\n",
       "      <td>1726</td>\n",
       "    </tr>\n",
       "    <tr>\n",
       "      <th>37</th>\n",
       "      <td>649979</td>\n",
       "      <td>Power Tools</td>\n",
       "      <td>Drilling Accessories</td>\n",
       "      <td>Step Drill Bits</td>\n",
       "      <td>299689</td>\n",
       "      <td>2163</td>\n",
       "    </tr>\n",
       "    <tr>\n",
       "      <th>41</th>\n",
       "      <td>565917</td>\n",
       "      <td>Paint, Equipment and Supplies</td>\n",
       "      <td>Spray Paints and Primers</td>\n",
       "      <td>Spray Paints</td>\n",
       "      <td>310773</td>\n",
       "      <td>3612</td>\n",
       "    </tr>\n",
       "    <tr>\n",
       "      <th>58</th>\n",
       "      <td>482732</td>\n",
       "      <td>Hand Tools</td>\n",
       "      <td>Marking Tools</td>\n",
       "      <td>Paint Markers</td>\n",
       "      <td>38789</td>\n",
       "      <td>4477</td>\n",
       "    </tr>\n",
       "    <tr>\n",
       "      <th>64</th>\n",
       "      <td>173984</td>\n",
       "      <td>Cleaning</td>\n",
       "      <td>Floor Care</td>\n",
       "      <td>Floor Finishes and Sealers</td>\n",
       "      <td>264751</td>\n",
       "      <td>3712</td>\n",
       "    </tr>\n",
       "  </tbody>\n",
       "</table>\n",
       "</div>"
      ],
      "text/plain": [
       "    order_number                             l1  \\\n",
       "22        173984                       Cleaning   \n",
       "37        649979                    Power Tools   \n",
       "41        565917  Paint, Equipment and Supplies   \n",
       "58        482732                     Hand Tools   \n",
       "64        173984                       Cleaning   \n",
       "\n",
       "                               l2                          l3     sku  brand  \n",
       "22  Paper Products and Dispensers         Paper Towels, Rolls   46841   1726  \n",
       "37           Drilling Accessories             Step Drill Bits  299689   2163  \n",
       "41       Spray Paints and Primers                Spray Paints  310773   3612  \n",
       "58                  Marking Tools               Paint Markers   38789   4477  \n",
       "64                     Floor Care  Floor Finishes and Sealers  264751   3712  "
      ]
     },
     "metadata": {},
     "output_type": "display_data"
    },
    {
     "name": "stdout",
     "output_type": "stream",
     "text": [
      "<class 'pandas.core.frame.DataFrame'>\n",
      "Int64Index: 551452 entries, 22 to 2107536\n",
      "Data columns (total 6 columns):\n",
      " #   Column        Non-Null Count   Dtype \n",
      "---  ------        --------------   ----- \n",
      " 0   order_number  551452 non-null  int64 \n",
      " 1   l1            551452 non-null  object\n",
      " 2   l2            551452 non-null  object\n",
      " 3   l3            551452 non-null  object\n",
      " 4   sku           551452 non-null  int64 \n",
      " 5   brand         551452 non-null  int64 \n",
      "dtypes: int64(3), object(3)\n",
      "memory usage: 29.5+ MB\n"
     ]
    }
   ],
   "source": [
    "data = Data()\n",
    "data.load_data('C:/Users/Son/Google Drive/DSDJ/DSDJ/Projects/E-Commerce/data/All Transations - 2 Weeks.txt', format='txt')\n",
    "print(\"\\n Orgiginal data\")\n",
    "data.present_data_head(number_rows=10)\n",
    "# remove the orders that have less than 10 items\n",
    "data.drop_small_order(order_col = 'order_number', min_order_size = 10)\n",
    "print(\"\\n Data after eleminating small orders \\n\")\n",
    "data.present_data_head(number_rows=5)\n"
   ]
  },
  {
   "cell_type": "code",
   "execution_count": 4,
   "metadata": {},
   "outputs": [
    {
     "name": "stderr",
     "output_type": "stream",
     "text": [
      "C:\\Users\\Son\\anaconda3\\lib\\site-packages\\pandas\\core\\frame.py:1485: FutureWarning: Using short name for 'orient' is deprecated. Only the options: ('dict', list, 'series', 'split', 'records', 'index') will be used in a future version. Use one of the above to silence this warning.\n",
      "  warnings.warn(\n"
     ]
    },
    {
     "data": {
      "text/plain": [
       "{'order_number': 173984,\n",
       " 'l1': 'Cleaning',\n",
       " 'l2': 'Paper Products and Dispensers',\n",
       " 'l3': 'Paper Towels, Rolls',\n",
       " 'sku': 46841,\n",
       " 'brand': 1726}"
      ]
     },
     "execution_count": 4,
     "metadata": {},
     "output_type": "execute_result"
    }
   ],
   "source": [
    "# convert data frame into a dict and present the first one\n",
    "dataset = data.data.to_dict('r')\n",
    "dataset[0]"
   ]
  },
  {
   "cell_type": "code",
   "execution_count": 5,
   "metadata": {},
   "outputs": [],
   "source": [
    "# Build 02 set:\n",
    "# usersPerItem: which users purchased item\n",
    "# itemsPerUser: which items is purchased by each user\n",
    "usersPerItem = defaultdict(set)\n",
    "itemsPerUser = defaultdict(set)"
   ]
  },
  {
   "cell_type": "code",
   "execution_count": 6,
   "metadata": {},
   "outputs": [],
   "source": [
    "# Build dictionary of itemNames\n",
    "itemNames = {}\n",
    "itemBrands = {}"
   ]
  },
  {
   "cell_type": "code",
   "execution_count": 7,
   "metadata": {},
   "outputs": [],
   "source": [
    "# go through the dataset\n",
    "# extract order number and item ID\n",
    "# add user (order number) to corresponding users\n",
    "# add item (item ID) to corresponding items\n",
    "for d in dataset:\n",
    "    user, item = d['order_number'], d['sku']\n",
    "    usersPerItem[item].add(user)\n",
    "    itemsPerUser[user].add(item)\n",
    "    itemNames[item] = d['l3']\n",
    "    itemBrands[item] = d['brand']\n",
    "#print(\"usersPerItem: \\n\", usersPerItem[1])    \n",
    "#print(\"itemsPerUser: \\n\", itemsPerUser[1])    "
   ]
  },
  {
   "cell_type": "code",
   "execution_count": 8,
   "metadata": {},
   "outputs": [],
   "source": [
    "# create a Jaccard similarity function\n",
    "def Jaccard(s1, s2):\n",
    "    numer = len(s1.intersection(s2))\n",
    "    denom = len(s1.union(s2))\n",
    "    if denom == 0:\n",
    "        return 0\n",
    "    else:\n",
    "        return numer / denom"
   ]
  },
  {
   "cell_type": "code",
   "execution_count": 9,
   "metadata": {},
   "outputs": [],
   "source": [
    "# create a function that display items' names and their brand IDs\n",
    "def Display_itemName_brandID(rec):\n",
    "    dis = []\n",
    "    for y in rec:\n",
    "        dis.append((itemNames[y[1]], itemBrands[y[1]]))\n",
    "    return dis"
   ]
  },
  {
   "cell_type": "markdown",
   "metadata": {},
   "source": [
    "1. Find a set of users who purchased i\n",
    "2. Iterate over all users who purchased i\n",
    "3. Build a candidate set from all items those users comsumed\n",
    "4. For items in this set, compute their similarity with i (and store it)\n",
    "5. Sort all the items by (Jaccard) similarity\n",
    "6. Return the most similar"
   ]
  },
  {
   "cell_type": "code",
   "execution_count": 10,
   "metadata": {},
   "outputs": [],
   "source": [
    "def mostsimilarFast(i):\n",
    "    similarities = []\n",
    "    users = usersPerItem[i]\n",
    "    candidateItems = set()\n",
    "    for u in users:\n",
    "        candidateItems = candidateItems.union(itemsPerUser[u])\n",
    "    for i2 in candidateItems:\n",
    "        if i2 ==i: continue\n",
    "        sim = Jaccard(users,usersPerItem[i2])\n",
    "        similarities.append((sim,i2))\n",
    "    similarities.sort(reverse=True)\n",
    "    return similarities[:5]"
   ]
  },
  {
   "cell_type": "markdown",
   "metadata": {},
   "source": [
    "Select one item and recommend top 5 most similar items\n"
   ]
  },
  {
   "cell_type": "code",
   "execution_count": 11,
   "metadata": {},
   "outputs": [
    {
     "name": "stdout",
     "output_type": "stream",
     "text": [
      "Display 01 data point:\n"
     ]
    },
    {
     "data": {
      "text/plain": [
       "{'order_number': 173984,\n",
       " 'l1': 'Cleaning',\n",
       " 'l2': 'Floor Care',\n",
       " 'l3': 'Floor Finishes and Sealers',\n",
       " 'sku': 264751,\n",
       " 'brand': 3712}"
      ]
     },
     "metadata": {},
     "output_type": "display_data"
    },
    {
     "name": "stdout",
     "output_type": "stream",
     "text": [
      " Item name: \n",
      " Floor Finishes and Sealers 3712\n",
      "\n",
      " Item IDs and their associated Jaccard similarity values:\n"
     ]
    },
    {
     "data": {
      "text/plain": [
       "[(0.5, 37462),\n",
       " (0.3333333333333333, 243083),\n",
       " (0.3333333333333333, 51094),\n",
       " (0.16666666666666666, 165562),\n",
       " (0.125, 189128)]"
      ]
     },
     "metadata": {},
     "output_type": "display_data"
    },
    {
     "name": "stdout",
     "output_type": "stream",
     "text": [
      "Items that are recommended:\n"
     ]
    },
    {
     "data": {
      "text/plain": [
       "[('Hand Sanitizer, Lotion, and Soap Dispensers', 1767),\n",
       " ('Toilet Paper Dispensers', 1726),\n",
       " ('Dust Mops', 4355),\n",
       " ('Surface and Air Deodorants', 3008),\n",
       " ('Toilet Bowl Cleaners', 4815)]"
      ]
     },
     "execution_count": 11,
     "metadata": {},
     "output_type": "execute_result"
    }
   ],
   "source": [
    "#select 01 data point, \n",
    "dataset[4]\n",
    "print(\"Display 01 data point:\")\n",
    "display(dataset[4])\n",
    "\n",
    "#take item ID\n",
    "query = dataset[4]['sku']\n",
    "# print item name\n",
    "print(\" Item name: \\n\",itemNames[query], itemBrands[query])\n",
    "\n",
    "mostsimilarFast(query)\n",
    "print(\"\\n Item IDs and their associated Jaccard similarity values:\")\n",
    "display(mostsimilarFast(query))\n",
    "\n",
    "print(\"Items that are recommended:\")\n",
    "#[itemNames[y[1]] for y in mostsimilarFast(query)]\n",
    "Display_itemName_brandID(mostsimilarFast(query))"
   ]
  },
  {
   "cell_type": "markdown",
   "metadata": {},
   "source": [
    "1. Select randomly three items\n",
    "2. Display item IDs and item names\n",
    "3. For each item, two most similarity items are recommended\n",
    "4. Display all recommended item IDs, their Jaccard similarity values\n",
    "5. Display recommended item names"
   ]
  },
  {
   "cell_type": "code",
   "execution_count": 12,
   "metadata": {},
   "outputs": [
    {
     "name": "stdout",
     "output_type": "stream",
     "text": [
      "Item IDs:\n"
     ]
    },
    {
     "data": {
      "text/plain": [
       "0    279312\n",
       "1     79915\n",
       "2     14439\n",
       "Name: sku, dtype: int64"
      ]
     },
     "metadata": {},
     "output_type": "display_data"
    },
    {
     "name": "stdout",
     "output_type": "stream",
     "text": [
      "Item names and brand IDs:\n",
      "Fork Terminals 9\n",
      "Flat Washers 1793\n",
      "Cleaning Rags 4355\n",
      "\n",
      "Recommended item IDs and their Jaccard similarity values:\n"
     ]
    },
    {
     "data": {
      "text/plain": [
       "[(0.16666666666666666, 294961),\n",
       " (0.16666666666666666, 288303),\n",
       " (0.15555555555555556, 83171),\n",
       " (0.12359550561797752, 79912),\n",
       " (0.08695652173913043, 268111),\n",
       " (0.08, 51123)]"
      ]
     },
     "metadata": {},
     "output_type": "display_data"
    },
    {
     "name": "stdout",
     "output_type": "stream",
     "text": [
      "Recommended item names and their brand IDs:\n"
     ]
    },
    {
     "data": {
      "text/plain": [
       "[('Ring Terminals', 3271),\n",
       " ('Thumb Screws', 1793),\n",
       " ('Lock Washers', 1793),\n",
       " ('Flat Washers', 1793),\n",
       " ('Trash Bags', 4355),\n",
       " ('Dust Mop Kits', 4355)]"
      ]
     },
     "execution_count": 12,
     "metadata": {},
     "output_type": "execute_result"
    }
   ],
   "source": [
    "# select randomly three items\n",
    "three=data.data['sku'].sample(n=3,replace=True)\n",
    "three.reset_index(drop=True, inplace=True)\n",
    "print(\"Item IDs:\")\n",
    "display(three)\n",
    "\n",
    "# display item names\n",
    "print(\"Item names and brand IDs:\")\n",
    "for i in three.index:\n",
    "    print(itemNames[three[i]], itemBrands[three[i]])\n",
    "\n",
    "# for each item, call funtion mostsimilarFast\n",
    "# top two similar items are recorded\n",
    "groups = []\n",
    "for i in three.index:\n",
    "    groups.extend(mostsimilarFast(three[i])[:2])\n",
    "#groups.sort(reverse=True)\n",
    "\n",
    "print(\"\\nRecommended item IDs and their Jaccard similarity values:\")\n",
    "display(groups[:6])\n",
    "print(\"Recommended item names and their brand IDs:\")\n",
    "#[itemNames[y[1]] for y in groups[:6]]  \n",
    "Display_itemName_brandID(groups[:6])"
   ]
  },
  {
   "cell_type": "code",
   "execution_count": null,
   "metadata": {},
   "outputs": [],
   "source": []
  }
 ],
 "metadata": {
  "kernelspec": {
   "display_name": "Python 3",
   "language": "python",
   "name": "python3"
  },
  "language_info": {
   "codemirror_mode": {
    "name": "ipython",
    "version": 3
   },
   "file_extension": ".py",
   "mimetype": "text/x-python",
   "name": "python",
   "nbconvert_exporter": "python",
   "pygments_lexer": "ipython3",
   "version": "3.8.5"
  }
 },
 "nbformat": 4,
 "nbformat_minor": 4
}
